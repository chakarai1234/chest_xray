{
 "cells": [
  {
   "cell_type": "code",
   "execution_count": 1,
   "metadata": {},
   "outputs": [
    {
     "name": "stdout",
     "output_type": "stream",
     "text": [
      "The Tensorflow version is 1.15.0\n",
      "The Keras version is 2.2.4-tf\n"
     ]
    }
   ],
   "source": [
    "from PIL import Image\n",
    "import tensorflow as tf\n",
    "import numpy as np\n",
    "from tensorflow.keras.preprocessing.image import ImageDataGenerator\n",
    "from tensorflow.keras.applications import VGG16\n",
    "from tensorflow.keras.applications.vgg16 import preprocess_input\n",
    "from tensorflow.keras.optimizers import Adam\n",
    "import matplotlib.pyplot as plt\n",
    "# import tensorflowjs as tfjs\n",
    "\n",
    "print(f\"The Tensorflow version is {tf.__version__}\")\n",
    "print(f\"The Keras version is {tf.keras.__version__}\")"
   ]
  },
  {
   "cell_type": "code",
   "execution_count": 2,
   "metadata": {},
   "outputs": [
    {
     "data": {
      "text/plain": [
       "(1858, 2090)"
      ]
     },
     "execution_count": 2,
     "metadata": {},
     "output_type": "execute_result"
    }
   ],
   "source": [
    "IMG_SIZE = (224,224)\n",
    "np.shape(plt.imread(\"./Data/train/NORMAL/IM-0115-0001.jpeg\"))"
   ]
  },
  {
   "cell_type": "code",
   "execution_count": 3,
   "metadata": {},
   "outputs": [],
   "source": [
    "train_generator = ImageDataGenerator(shear_range=10\n",
    "                                   ,zoom_range=0.2\n",
    "                                   ,horizontal_flip=True\n",
    "                                   ,preprocessing_function=preprocess_input)\n",
    "\n",
    "valid_generator = ImageDataGenerator(preprocessing_function=preprocess_input)"
   ]
  },
  {
   "cell_type": "code",
   "execution_count": 4,
   "metadata": {},
   "outputs": [
    {
     "name": "stdout",
     "output_type": "stream",
     "text": [
      "Found 5216 images belonging to 2 classes.\n",
      "Found 16 images belonging to 2 classes.\n"
     ]
    }
   ],
   "source": [
    "train_data = train_generator.flow_from_directory(\"./Data/train/\",target_size=IMG_SIZE,color_mode=\"rgb\",batch_size=32)\n",
    "valid_data = valid_generator.flow_from_directory(\"./Data/val/\",target_size=IMG_SIZE,color_mode=\"rgb\",batch_size=32)"
   ]
  },
  {
   "cell_type": "code",
   "execution_count": 5,
   "metadata": {},
   "outputs": [
    {
     "data": {
      "text/plain": [
       "{'NORMAL': 0, 'PNEUMONIA': 1}"
      ]
     },
     "execution_count": 5,
     "metadata": {},
     "output_type": "execute_result"
    }
   ],
   "source": [
    "train_data.class_indices"
   ]
  },
  {
   "cell_type": "code",
   "execution_count": 6,
   "metadata": {
    "scrolled": true
   },
   "outputs": [
    {
     "name": "stdout",
     "output_type": "stream",
     "text": [
      "WARNING:tensorflow:From C:\\Users\\CHAKARAPANI\\AppData\\Roaming\\Python\\Python36\\site-packages\\tensorflow_core\\python\\ops\\resource_variable_ops.py:1630: calling BaseResourceVariable.__init__ (from tensorflow.python.ops.resource_variable_ops) with constraint is deprecated and will be removed in a future version.\n",
      "Instructions for updating:\n",
      "If using Keras pass *_constraint arguments to layers.\n"
     ]
    }
   ],
   "source": [
    "base_model = VGG16(include_top=False,weights=\"imagenet\",input_shape=(224,224,3))"
   ]
  },
  {
   "cell_type": "code",
   "execution_count": 7,
   "metadata": {},
   "outputs": [
    {
     "name": "stdout",
     "output_type": "stream",
     "text": [
      "<tensorflow.python.keras.engine.input_layer.InputLayer object at 0x000001CD88A8F8D0>\n",
      "<tensorflow.python.keras.layers.convolutional.Conv2D object at 0x000001CDF38E41D0>\n",
      "<tensorflow.python.keras.layers.convolutional.Conv2D object at 0x000001CD88AAF2E8>\n",
      "<tensorflow.python.keras.layers.pooling.MaxPooling2D object at 0x000001CD88AAF630>\n",
      "<tensorflow.python.keras.layers.convolutional.Conv2D object at 0x000001CD88C02550>\n",
      "<tensorflow.python.keras.layers.convolutional.Conv2D object at 0x000001CD88C0DB38>\n",
      "<tensorflow.python.keras.layers.pooling.MaxPooling2D object at 0x000001CD88C26CF8>\n",
      "<tensorflow.python.keras.layers.convolutional.Conv2D object at 0x000001CD88C32A20>\n",
      "<tensorflow.python.keras.layers.convolutional.Conv2D object at 0x000001CD88C39630>\n",
      "<tensorflow.python.keras.layers.convolutional.Conv2D object at 0x000001CD88C39588>\n",
      "<tensorflow.python.keras.layers.pooling.MaxPooling2D object at 0x000001CD88C60DD8>\n",
      "<tensorflow.python.keras.layers.convolutional.Conv2D object at 0x000001CD88C69BA8>\n",
      "<tensorflow.python.keras.layers.convolutional.Conv2D object at 0x000001CD88C71710>\n",
      "<tensorflow.python.keras.layers.convolutional.Conv2D object at 0x000001CD88C71668>\n",
      "<tensorflow.python.keras.layers.pooling.MaxPooling2D object at 0x000001CD88C90F60>\n",
      "<tensorflow.python.keras.layers.convolutional.Conv2D object at 0x000001CD88C9DCC0>\n",
      "<tensorflow.python.keras.layers.convolutional.Conv2D object at 0x000001CD88CA5828>\n",
      "<tensorflow.python.keras.layers.convolutional.Conv2D object at 0x000001CD88CBC6D8>\n",
      "<tensorflow.python.keras.layers.pooling.MaxPooling2D object at 0x000001CD88CC8F28>\n"
     ]
    },
    {
     "data": {
      "text/plain": [
       "<tf.Tensor 'input_1:0' shape=(?, 224, 224, 3) dtype=float32>"
      ]
     },
     "execution_count": 7,
     "metadata": {},
     "output_type": "execute_result"
    }
   ],
   "source": [
    "for layers in base_model.layers:\n",
    "    print(layers)\n",
    "    layers.trainable = False\n",
    "base_model.input"
   ]
  },
  {
   "cell_type": "code",
   "execution_count": 8,
   "metadata": {},
   "outputs": [],
   "source": [
    "from tensorflow.keras import Model, layers\n",
    "x = base_model.output\n",
    "x = layers.GlobalAveragePooling2D()(x)\n",
    "x = layers.Dense(128,activation='relu')(x)\n",
    "x = layers.Dense(128,activation='relu')(x)\n",
    "predictions = layers.Dense(2, activation='softmax')(x)\n",
    "model = Model(base_model.input, predictions)"
   ]
  },
  {
   "cell_type": "code",
   "execution_count": 9,
   "metadata": {},
   "outputs": [
    {
     "name": "stdout",
     "output_type": "stream",
     "text": [
      "Model: \"model\"\n",
      "_________________________________________________________________\n",
      "Layer (type)                 Output Shape              Param #   \n",
      "=================================================================\n",
      "input_1 (InputLayer)         [(None, 224, 224, 3)]     0         \n",
      "_________________________________________________________________\n",
      "block1_conv1 (Conv2D)        (None, 224, 224, 64)      1792      \n",
      "_________________________________________________________________\n",
      "block1_conv2 (Conv2D)        (None, 224, 224, 64)      36928     \n",
      "_________________________________________________________________\n",
      "block1_pool (MaxPooling2D)   (None, 112, 112, 64)      0         \n",
      "_________________________________________________________________\n",
      "block2_conv1 (Conv2D)        (None, 112, 112, 128)     73856     \n",
      "_________________________________________________________________\n",
      "block2_conv2 (Conv2D)        (None, 112, 112, 128)     147584    \n",
      "_________________________________________________________________\n",
      "block2_pool (MaxPooling2D)   (None, 56, 56, 128)       0         \n",
      "_________________________________________________________________\n",
      "block3_conv1 (Conv2D)        (None, 56, 56, 256)       295168    \n",
      "_________________________________________________________________\n",
      "block3_conv2 (Conv2D)        (None, 56, 56, 256)       590080    \n",
      "_________________________________________________________________\n",
      "block3_conv3 (Conv2D)        (None, 56, 56, 256)       590080    \n",
      "_________________________________________________________________\n",
      "block3_pool (MaxPooling2D)   (None, 28, 28, 256)       0         \n",
      "_________________________________________________________________\n",
      "block4_conv1 (Conv2D)        (None, 28, 28, 512)       1180160   \n",
      "_________________________________________________________________\n",
      "block4_conv2 (Conv2D)        (None, 28, 28, 512)       2359808   \n",
      "_________________________________________________________________\n",
      "block4_conv3 (Conv2D)        (None, 28, 28, 512)       2359808   \n",
      "_________________________________________________________________\n",
      "block4_pool (MaxPooling2D)   (None, 14, 14, 512)       0         \n",
      "_________________________________________________________________\n",
      "block5_conv1 (Conv2D)        (None, 14, 14, 512)       2359808   \n",
      "_________________________________________________________________\n",
      "block5_conv2 (Conv2D)        (None, 14, 14, 512)       2359808   \n",
      "_________________________________________________________________\n",
      "block5_conv3 (Conv2D)        (None, 14, 14, 512)       2359808   \n",
      "_________________________________________________________________\n",
      "block5_pool (MaxPooling2D)   (None, 7, 7, 512)         0         \n",
      "_________________________________________________________________\n",
      "global_average_pooling2d (Gl (None, 512)               0         \n",
      "_________________________________________________________________\n",
      "dense (Dense)                (None, 128)               65664     \n",
      "_________________________________________________________________\n",
      "dense_1 (Dense)              (None, 128)               16512     \n",
      "_________________________________________________________________\n",
      "dense_2 (Dense)              (None, 2)                 258       \n",
      "=================================================================\n",
      "Total params: 14,797,122\n",
      "Trainable params: 82,434\n",
      "Non-trainable params: 14,714,688\n",
      "_________________________________________________________________\n"
     ]
    }
   ],
   "source": [
    "model.summary()"
   ]
  },
  {
   "cell_type": "code",
   "execution_count": 10,
   "metadata": {},
   "outputs": [],
   "source": [
    "model.compile(loss='categorical_crossentropy',\n",
    "              optimizer='adam',\n",
    "              metrics=['accuracy'])"
   ]
  },
  {
   "cell_type": "code",
   "execution_count": 11,
   "metadata": {},
   "outputs": [
    {
     "name": "stdout",
     "output_type": "stream",
     "text": [
      "Epoch 1/5\n",
      " 9/10 [==========================>...] - ETA: 1s - loss: 1.2286 - acc: 0.6528Epoch 1/5\n",
      "10/10 [==============================] - 19s 2s/step - loss: 1.1651 - acc: 0.6594 - val_loss: 0.6283 - val_acc: 0.6875\n",
      "Epoch 2/5\n",
      " 9/10 [==========================>...] - ETA: 0s - loss: 0.2907 - acc: 0.8785Epoch 1/5\n",
      "10/10 [==============================] - 9s 891ms/step - loss: 0.2804 - acc: 0.8813 - val_loss: 0.4715 - val_acc: 0.8125\n",
      "Epoch 3/5\n",
      " 9/10 [==========================>...] - ETA: 0s - loss: 0.2298 - acc: 0.9028Epoch 1/5\n",
      "10/10 [==============================] - 9s 902ms/step - loss: 0.2247 - acc: 0.9062 - val_loss: 0.9172 - val_acc: 0.6875\n",
      "Epoch 4/5\n",
      " 9/10 [==========================>...] - ETA: 0s - loss: 0.2657 - acc: 0.9132Epoch 1/5\n",
      "10/10 [==============================] - 9s 893ms/step - loss: 0.2745 - acc: 0.9094 - val_loss: 0.4443 - val_acc: 0.8125\n",
      "Epoch 5/5\n",
      " 9/10 [==========================>...] - ETA: 0s - loss: 0.2256 - acc: 0.9097Epoch 1/5\n",
      "10/10 [==============================] - 9s 939ms/step - loss: 0.2326 - acc: 0.9062 - val_loss: 0.3322 - val_acc: 0.8125\n"
     ]
    }
   ],
   "source": [
    "history = model.fit(train_data,steps_per_epoch=10,epochs=5,validation_data=valid_data)"
   ]
  },
  {
   "cell_type": "code",
   "execution_count": 12,
   "metadata": {},
   "outputs": [
    {
     "name": "stderr",
     "output_type": "stream",
     "text": [
      "C:\\Users\\CHAKARAPANI\\AppData\\Roaming\\Python\\Python36\\site-packages\\tensorflowjs\\converters\\keras_h5_conversion.py:123: H5pyDeprecationWarning: The default file mode will change to 'r' (read-only) in h5py 3.0. To suppress this warning, pass the mode you need to h5py.File(), or set the global default h5.get_config().default_file_mode, or set the environment variable H5PY_DEFAULT_READONLY=1. Available modes are: 'r', 'r+', 'w', 'w-'/'x', 'a'. See the docs for details.\n",
      "  return h5py.File(h5file)\n"
     ]
    }
   ],
   "source": [
    "import tensorflowjs as tfjs\n",
    "tfjs.converters.save_keras_model(model,'model_for_web',weight_shard_size_bytes=int(1e9))"
   ]
  },
  {
   "cell_type": "code",
   "execution_count": null,
   "metadata": {},
   "outputs": [],
   "source": []
  }
 ],
 "metadata": {
  "kernelspec": {
   "display_name": "Python 3",
   "language": "python",
   "name": "python3"
  },
  "language_info": {
   "codemirror_mode": {
    "name": "ipython",
    "version": 3
   },
   "file_extension": ".py",
   "mimetype": "text/x-python",
   "name": "python",
   "nbconvert_exporter": "python",
   "pygments_lexer": "ipython3",
   "version": "3.6.7"
  }
 },
 "nbformat": 4,
 "nbformat_minor": 4
}
